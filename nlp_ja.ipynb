{
  "nbformat": 4,
  "nbformat_minor": 0,
  "metadata": {
    "colab": {
      "provenance": [],
      "authorship_tag": "ABX9TyNwOoRY3FquGCsRrkckUgkK",
      "include_colab_link": true
    },
    "kernelspec": {
      "name": "python3",
      "display_name": "Python 3"
    },
    "language_info": {
      "name": "python"
    }
  },
  "cells": [
    {
      "cell_type": "markdown",
      "metadata": {
        "id": "view-in-github",
        "colab_type": "text"
      },
      "source": [
        "<a href=\"https://colab.research.google.com/github/enginearn/colabs/blob/main/nlp_ja.ipynb\" target=\"_parent\"><img src=\"https://colab.research.google.com/assets/colab-badge.svg\" alt=\"Open In Colab\"/></a>"
      ]
    },
    {
      "cell_type": "markdown",
      "source": [
        "# NLP ChatBot"
      ],
      "metadata": {
        "id": "mNrq3GoesIh_"
      }
    },
    {
      "cell_type": "code",
      "execution_count": null,
      "metadata": {
        "id": "VBKOqKtScdpi"
      },
      "outputs": [],
      "source": [
        "#!pip install gensim janome keras tensorflow numpy matplotlib"
      ]
    },
    {
      "cell_type": "markdown",
      "source": [
        "## regular expression"
      ],
      "metadata": {
        "id": "olesLKqlhjdn"
      }
    },
    {
      "cell_type": "code",
      "source": [
        "import re\n",
        "\n",
        "s = \"私は柴犬が好きです。\"\n",
        "s = re.sub(\"柴犬\", \"シャムネコ\", s)\n",
        "print(s)"
      ],
      "metadata": {
        "colab": {
          "base_uri": "https://localhost:8080/"
        },
        "id": "RN4i__y4dN35",
        "outputId": "5586dc73-b9ad-4e15-8cf0-e7965d8e2aa1"
      },
      "execution_count": 5,
      "outputs": [
        {
          "output_type": "stream",
          "name": "stdout",
          "text": [
            "私はシャムネコが好きです。\n"
          ]
        }
      ]
    },
    {
      "cell_type": "code",
      "source": [
        "s = \"私は黒犬と白猫が好きです。\"\n",
        "s = re.sub(\"[犬猫]\", \"馬\", s)\n",
        "print(s)"
      ],
      "metadata": {
        "colab": {
          "base_uri": "https://localhost:8080/"
        },
        "id": "7P8pmrPveRND",
        "outputId": "8c1a85fb-0ba4-4751-e622-e546fcccf4f7"
      },
      "execution_count": 6,
      "outputs": [
        {
          "output_type": "stream",
          "name": "stdout",
          "text": [
            "私は黒馬と白馬が好きです。\n"
          ]
        }
      ]
    },
    {
      "cell_type": "code",
      "source": [
        "s = \"私は黒犬と白猫が好きです。\"\n",
        "s = re.sub(\"[^犬猫]\", \"馬\", s)\n",
        "print(s)"
      ],
      "metadata": {
        "colab": {
          "base_uri": "https://localhost:8080/"
        },
        "id": "Rffx6Secequ1",
        "outputId": "87b22163-fc29-4398-a3d3-bb445ff1bd29"
      },
      "execution_count": 8,
      "outputs": [
        {
          "output_type": "stream",
          "name": "stdout",
          "text": [
            "馬馬馬犬馬馬猫馬馬馬馬馬馬\n"
          ]
        }
      ]
    },
    {
      "cell_type": "code",
      "source": [
        "s = \"私は黒犬犬犬犬犬犬犬犬犬犬犬犬と白猫が好きです。\"\n",
        "s = re.sub(\"犬+\", \"犬\", s)\n",
        "print(s)"
      ],
      "metadata": {
        "colab": {
          "base_uri": "https://localhost:8080/"
        },
        "id": "eJ287RixhGAl",
        "outputId": "dbaaa1fe-e67c-4fe0-a858-3b2ba6884acb"
      },
      "execution_count": 9,
      "outputs": [
        {
          "output_type": "stream",
          "name": "stdout",
          "text": [
            "私は黒犬と白猫が好きです。\n"
          ]
        }
      ]
    },
    {
      "cell_type": "code",
      "source": [
        "s = \"私は黒犬【こっけん】と白猫【しろねこ】が好きです。\"\n",
        "s = re.sub(\"【[^】]+】\", \"\", s)\n",
        "print(s)"
      ],
      "metadata": {
        "colab": {
          "base_uri": "https://localhost:8080/"
        },
        "id": "cE21xcmgiDtk",
        "outputId": "95f9ad7f-a0c8-4e2a-f557-eec96b9d95a4"
      },
      "execution_count": 10,
      "outputs": [
        {
          "output_type": "stream",
          "name": "stdout",
          "text": [
            "私は黒犬と白猫が好きです。\n"
          ]
        }
      ]
    },
    {
      "cell_type": "code",
      "source": [
        "s = \"私は白馬【はくば】と白猫【しろねこ】が好きです。\"\n",
        "s = re.sub(\"【[^】]+】\", \"\", s)\n",
        "print(s)"
      ],
      "metadata": {
        "colab": {
          "base_uri": "https://localhost:8080/"
        },
        "id": "HeogivfTipyK",
        "outputId": "82334efb-a7f4-48d5-f823-e81e8bf2f5e0"
      },
      "execution_count": 11,
      "outputs": [
        {
          "output_type": "stream",
          "name": "stdout",
          "text": [
            "私は白馬と白猫が好きです。\n"
          ]
        }
      ]
    },
    {
      "cell_type": "code",
      "source": [],
      "metadata": {
        "id": "ADBYkLZ1jKTZ"
      },
      "execution_count": null,
      "outputs": []
    }
  ]
}