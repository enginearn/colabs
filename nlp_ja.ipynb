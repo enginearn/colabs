{
  "nbformat": 4,
  "nbformat_minor": 0,
  "metadata": {
    "colab": {
      "provenance": [],
      "authorship_tag": "ABX9TyN4RybRIgB2c/m3uvfaeVkO",
      "include_colab_link": true
    },
    "kernelspec": {
      "name": "python3",
      "display_name": "Python 3"
    },
    "language_info": {
      "name": "python"
    }
  },
  "cells": [
    {
      "cell_type": "markdown",
      "metadata": {
        "id": "view-in-github",
        "colab_type": "text"
      },
      "source": [
        "<a href=\"https://colab.research.google.com/github/enginearn/colabs/blob/main/nlp_ja.ipynb\" target=\"_parent\"><img src=\"https://colab.research.google.com/assets/colab-badge.svg\" alt=\"Open In Colab\"/></a>"
      ]
    },
    {
      "cell_type": "code",
      "execution_count": null,
      "metadata": {
        "id": "VBKOqKtScdpi"
      },
      "outputs": [],
      "source": [
        "!pip install gensim janome keras tensorflow numpy matplotlib"
      ]
    },
    {
      "cell_type": "code",
      "source": [
        "import re\n",
        "\n",
        "s = \"私は柴犬が好きです。\"\n",
        "s = re.sub(\"柴犬\", \"シャムネコ\", s)\n",
        "print(s)"
      ],
      "metadata": {
        "colab": {
          "base_uri": "https://localhost:8080/"
        },
        "id": "RN4i__y4dN35",
        "outputId": "5586dc73-b9ad-4e15-8cf0-e7965d8e2aa1"
      },
      "execution_count": 5,
      "outputs": [
        {
          "output_type": "stream",
          "name": "stdout",
          "text": [
            "私はシャムネコが好きです。\n"
          ]
        }
      ]
    },
    {
      "cell_type": "code",
      "source": [
        "s = \"私は黒犬と白猫が好きです。\"\n",
        "s = re.sub(\"[犬猫]\", \"馬\", s)\n",
        "print(s)"
      ],
      "metadata": {
        "colab": {
          "base_uri": "https://localhost:8080/"
        },
        "id": "7P8pmrPveRND",
        "outputId": "8c1a85fb-0ba4-4751-e622-e546fcccf4f7"
      },
      "execution_count": 6,
      "outputs": [
        {
          "output_type": "stream",
          "name": "stdout",
          "text": [
            "私は黒馬と白馬が好きです。\n"
          ]
        }
      ]
    },
    {
      "cell_type": "code",
      "source": [],
      "metadata": {
        "id": "Rffx6Secequ1"
      },
      "execution_count": null,
      "outputs": []
    }
  ]
}