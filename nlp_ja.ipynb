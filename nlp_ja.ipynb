{
  "nbformat": 4,
  "nbformat_minor": 0,
  "metadata": {
    "colab": {
      "provenance": [],
      "authorship_tag": "ABX9TyOTkzkDqaeUsYw9QrbQEqDf",
      "include_colab_link": true
    },
    "kernelspec": {
      "name": "python3",
      "display_name": "Python 3"
    },
    "language_info": {
      "name": "python"
    }
  },
  "cells": [
    {
      "cell_type": "markdown",
      "metadata": {
        "id": "view-in-github",
        "colab_type": "text"
      },
      "source": [
        "<a href=\"https://colab.research.google.com/github/enginearn/colabs/blob/main/nlp_ja.ipynb\" target=\"_parent\"><img src=\"https://colab.research.google.com/assets/colab-badge.svg\" alt=\"Open In Colab\"/></a>"
      ]
    },
    {
      "cell_type": "markdown",
      "source": [
        "# NLP ChatBot"
      ],
      "metadata": {
        "id": "mNrq3GoesIh_"
      }
    },
    {
      "cell_type": "code",
      "execution_count": null,
      "metadata": {
        "id": "VBKOqKtScdpi"
      },
      "outputs": [],
      "source": [
        "!pip install gensim janome keras tensorflow numpy matplotlib"
      ]
    },
    {
      "cell_type": "markdown",
      "source": [
        "## regular expression"
      ],
      "metadata": {
        "id": "olesLKqlhjdn"
      }
    },
    {
      "cell_type": "code",
      "source": [
        "import re\n",
        "\n",
        "s = \"私は柴犬が好きです。\"\n",
        "s = re.sub(\"柴犬\", \"シャムネコ\", s)\n",
        "print(s)"
      ],
      "metadata": {
        "colab": {
          "base_uri": "https://localhost:8080/"
        },
        "id": "RN4i__y4dN35",
        "outputId": "6a2f0950-8757-486a-fe92-87d7e1514c57"
      },
      "execution_count": 2,
      "outputs": [
        {
          "output_type": "stream",
          "name": "stdout",
          "text": [
            "私はシャムネコが好きです。\n"
          ]
        }
      ]
    },
    {
      "cell_type": "code",
      "source": [
        "s = \"私は黒犬と白猫が好きです。\"\n",
        "s = re.sub(\"[犬猫]\", \"馬\", s)\n",
        "print(s)"
      ],
      "metadata": {
        "colab": {
          "base_uri": "https://localhost:8080/"
        },
        "id": "7P8pmrPveRND",
        "outputId": "93ef4fc0-9357-47d6-847d-e98da9a86910"
      },
      "execution_count": 3,
      "outputs": [
        {
          "output_type": "stream",
          "name": "stdout",
          "text": [
            "私は黒馬と白馬が好きです。\n"
          ]
        }
      ]
    },
    {
      "cell_type": "code",
      "source": [
        "s = \"私は黒犬と白猫が好きです。\"\n",
        "s = re.sub(\"[^犬猫]\", \"馬\", s)\n",
        "print(s)"
      ],
      "metadata": {
        "colab": {
          "base_uri": "https://localhost:8080/"
        },
        "id": "Rffx6Secequ1",
        "outputId": "3e4b4434-1444-48fb-cc0a-58d4a6e7f074"
      },
      "execution_count": 4,
      "outputs": [
        {
          "output_type": "stream",
          "name": "stdout",
          "text": [
            "馬馬馬犬馬馬猫馬馬馬馬馬馬\n"
          ]
        }
      ]
    },
    {
      "cell_type": "code",
      "source": [
        "s = \"私は黒犬犬犬犬犬犬犬犬犬犬犬犬と白猫が好きです。\"\n",
        "s = re.sub(\"犬+\", \"犬\", s)\n",
        "print(s)"
      ],
      "metadata": {
        "colab": {
          "base_uri": "https://localhost:8080/"
        },
        "id": "eJ287RixhGAl",
        "outputId": "38423268-011e-4659-de62-c9afdd4560f8"
      },
      "execution_count": 5,
      "outputs": [
        {
          "output_type": "stream",
          "name": "stdout",
          "text": [
            "私は黒犬と白猫が好きです。\n"
          ]
        }
      ]
    },
    {
      "cell_type": "code",
      "source": [
        "s = \"私は黒犬【こっけん】と白猫【しろねこ】が好きです。\"\n",
        "s = re.sub(\"【[^】]+】\", \"\", s)\n",
        "print(s)"
      ],
      "metadata": {
        "colab": {
          "base_uri": "https://localhost:8080/"
        },
        "id": "cE21xcmgiDtk",
        "outputId": "e7fe1d6a-c958-4c96-a62e-4209bb48ba1d"
      },
      "execution_count": 6,
      "outputs": [
        {
          "output_type": "stream",
          "name": "stdout",
          "text": [
            "私は黒犬と白猫が好きです。\n"
          ]
        }
      ]
    },
    {
      "cell_type": "code",
      "source": [
        "s = \"私は白馬【はくば】と白猫【しろねこ】が好きです。\"\n",
        "s = re.sub(\"【[^】]+】\", \"\", s)\n",
        "print(s)"
      ],
      "metadata": {
        "colab": {
          "base_uri": "https://localhost:8080/"
        },
        "id": "HeogivfTipyK",
        "outputId": "4f9ab85d-7fa1-4259-d699-8006361439a6"
      },
      "execution_count": 7,
      "outputs": [
        {
          "output_type": "stream",
          "name": "stdout",
          "text": [
            "私は白馬と白猫が好きです。\n"
          ]
        }
      ]
    },
    {
      "cell_type": "markdown",
      "source": [
        "## Read data"
      ],
      "metadata": {
        "id": "Ji5qA39shZ8F"
      }
    },
    {
      "cell_type": "code",
      "source": [
        "!pip install requests beautifulsoup4"
      ],
      "metadata": {
        "id": "ADBYkLZ1jKTZ",
        "colab": {
          "base_uri": "https://localhost:8080/"
        },
        "outputId": "0b64753b-1703-495b-8693-8218a908306d"
      },
      "execution_count": 8,
      "outputs": [
        {
          "output_type": "stream",
          "name": "stdout",
          "text": [
            "Looking in indexes: https://pypi.org/simple, https://us-python.pkg.dev/colab-wheels/public/simple/\n",
            "Requirement already satisfied: requests in /usr/local/lib/python3.10/dist-packages (2.27.1)\n",
            "Requirement already satisfied: beautifulsoup4 in /usr/local/lib/python3.10/dist-packages (4.11.2)\n",
            "Requirement already satisfied: urllib3<1.27,>=1.21.1 in /usr/local/lib/python3.10/dist-packages (from requests) (1.26.15)\n",
            "Requirement already satisfied: certifi>=2017.4.17 in /usr/local/lib/python3.10/dist-packages (from requests) (2022.12.7)\n",
            "Requirement already satisfied: charset-normalizer~=2.0.0 in /usr/local/lib/python3.10/dist-packages (from requests) (2.0.12)\n",
            "Requirement already satisfied: idna<4,>=2.5 in /usr/local/lib/python3.10/dist-packages (from requests) (3.4)\n",
            "Requirement already satisfied: soupsieve>1.2 in /usr/local/lib/python3.10/dist-packages (from beautifulsoup4) (2.4.1)\n"
          ]
        }
      ]
    },
    {
      "cell_type": "code",
      "source": [
        "!git clone --depth 1 https://github.com/aozorahack/aozorabunko_text.git"
      ],
      "metadata": {
        "colab": {
          "base_uri": "https://localhost:8080/"
        },
        "id": "5T-0PWbSjo1m",
        "outputId": "df512c0e-1788-462f-98c7-9882e592cdc7"
      },
      "execution_count": 9,
      "outputs": [
        {
          "output_type": "stream",
          "name": "stdout",
          "text": [
            "Cloning into 'aozorabunko_text'...\n",
            "remote: Enumerating objects: 36894, done.\u001b[K\n",
            "remote: Counting objects: 100% (36894/36894), done.\u001b[K\n",
            "remote: Compressing objects: 100% (17843/17843), done.\u001b[K\n",
            "remote: Total 36894 (delta 191), reused 36694 (delta 191), pack-reused 0\n",
            "Receiving objects: 100% (36894/36894), 245.88 MiB | 20.69 MiB/s, done.\n",
            "Resolving deltas: 100% (191/191), done.\n",
            "Updating files: 100% (17442/17442), done.\n"
          ]
        }
      ]
    },
    {
      "cell_type": "code",
      "source": [
        "import codecs"
      ],
      "metadata": {
        "id": "wyVyWMYKvsg-"
      },
      "execution_count": 10,
      "outputs": []
    },
    {
      "cell_type": "code",
      "source": [
        "aozora_path = \"/content/aozorabunko_text/cards/000005/files/53194_ruby_44732/53194_ruby_44732.txt\"\n",
        "\n",
        "with open(aozora_path, encoding=\"Shift_JIS\") as f:\n",
        "  text = f.read()\n",
        "\n",
        "# print(text)\n",
        "\n",
        "# with codecs.open(aozora_path, \"rb\") as f:\n",
        "  # binary_data = f.read()\n",
        "\n",
        "# Shift_JISでデコード\n",
        "# shift_jis_text = binary_data.decode('Shift_JIS')\n",
        "\n",
        "# UTF-8でエンコード\n",
        "# utf8_data = shift_jis_text.encode('utf-8')\n",
        "\n",
        "# with open('data.txt') as f:\n",
        "#   text = f.write(utf8_data)\n",
        "# print(utf8_data)"
      ],
      "metadata": {
        "id": "IiicICUGjSkr"
      },
      "execution_count": 11,
      "outputs": []
    },
    {
      "cell_type": "markdown",
      "source": [
        "## Janome"
      ],
      "metadata": {
        "id": "Rab-gB_hsk7b"
      }
    },
    {
      "cell_type": "code",
      "source": [
        "from janome.tokenizer import Tokenizer\n",
        "\n",
        "t = Tokenizer()\n",
        "\n",
        "s = \"すもももももももものうち\"\n",
        "\n",
        "for token in t.tokenize(s):\n",
        "  print(token)"
      ],
      "metadata": {
        "colab": {
          "base_uri": "https://localhost:8080/"
        },
        "id": "wB9qudJ_jtOv",
        "outputId": "89c6e0c4-ac84-4885-ddb8-26409cc0c784"
      },
      "execution_count": 20,
      "outputs": [
        {
          "output_type": "stream",
          "name": "stdout",
          "text": [
            "すもも\t名詞,一般,*,*,*,*,すもも,スモモ,スモモ\n",
            "も\t助詞,係助詞,*,*,*,*,も,モ,モ\n",
            "もも\t名詞,一般,*,*,*,*,もも,モモ,モモ\n",
            "も\t助詞,係助詞,*,*,*,*,も,モ,モ\n",
            "もも\t名詞,一般,*,*,*,*,もも,モモ,モモ\n",
            "の\t助詞,連体化,*,*,*,*,の,ノ,ノ\n",
            "うち\t名詞,非自立,副詞可能,*,*,*,うち,ウチ,ウチ\n"
          ]
        }
      ]
    },
    {
      "cell_type": "code",
      "source": [
        "w_list = [ _ for _ in t.tokenize(s, wakati=True)]\n",
        "print(w_list)"
      ],
      "metadata": {
        "colab": {
          "base_uri": "https://localhost:8080/"
        },
        "id": "dgX4wJBMj0mk",
        "outputId": "15e2b0f7-48de-4b8c-805c-a7aa56106ea8"
      },
      "execution_count": 23,
      "outputs": [
        {
          "output_type": "stream",
          "name": "stdout",
          "text": [
            "['すもも', 'も', 'もも', 'も', 'もも', 'の', 'うち']\n"
          ]
        }
      ]
    },
    {
      "cell_type": "code",
      "source": [],
      "metadata": {
        "id": "TXfzINsLn5fQ"
      },
      "execution_count": null,
      "outputs": []
    }
  ]
}